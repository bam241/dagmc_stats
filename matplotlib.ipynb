{
 "cells": [
  {
   "cell_type": "code",
   "execution_count": 4,
   "metadata": {},
   "outputs": [],
   "source": [
    "import generate_stats_filename\n",
    "import matplotlib.pyplot as plt\n",
    "import numpy as np"
   ]
  },
  {
   "cell_type": "code",
   "execution_count": 5,
   "metadata": {},
   "outputs": [],
   "source": [
    "def spv_histogram(s_p_v):\n",
    "    fig, ax = plt.subplots()\n",
    "    ax.hist(s_p_v)"
   ]
  },
  {
   "cell_type": "code",
   "execution_count": 14,
   "metadata": {},
   "outputs": [],
   "source": [
    "def tpv_histogram(t_p_v):\n",
    "    tpv = []\n",
    "    tpvbinvalues = []\n",
    "    for key, value in t_p_v.items():\n",
    "        for append in range(value):\n",
    "            tpv.append(key)\n",
    "        tpvbinvalues.append(key)\n",
    "    for value in range(len(tpvbinvalues)):\n",
    "        if tpvbinvalues[value+1] - tpvbinvalues[value] != 1:\n",
    "            tpvbinvalues.insert(value+1, tpvbinvalues[value] +1)\n",
    "            tpvbinvalues.insert(value+2, tpvbinvalues[value+2]-1)\n",
    "    fig, ax = plt.subplots()\n",
    "    ax.hist(tpv, bins = tpvbinvalues, log = True)"
   ]
  },
  {
   "cell_type": "code",
   "execution_count": 24,
   "metadata": {},
   "outputs": [],
   "source": [
    "def tps_histogram(t_p_s):\n",
    "    tps = []\n",
    "    tpsbinvalues = []\n",
    "    for key, value in t_p_s.items():\n",
    "        for add in range(value):\n",
    "            tps.append(key)\n",
    "        tpsbinvalues.append(key)\n",
    "    for value in range(len(tpsbinvalues)):\n",
    "        if tpsbinvalues[value+1] - tpsbinvalues[value] != 1:\n",
    "            tpsbinvalues.insert(value+1, tpsbinvalues[value] +1)\n",
    "            tpsbinvalues.insert(value+2, tpsbinvalues[value+2]-1)\n",
    "    fig, ax = plt.subplots()\n",
    "    ax.hist(tps, bins = tpsbinvalues)\n",
    "    ax.semilogx()"
   ]
  },
  {
   "cell_type": "code",
   "execution_count": 25,
   "metadata": {},
   "outputs": [],
   "source": [
    "def histograms_and_stats():\n",
    "    s_p_v, t_p_v, t_p_s = generate_stats_filename.main(\"3vols.h5m\")\n",
    "    spv_histogram(s_p_v)\n",
    "    tpv_histogram(t_p_v)\n",
    "    tps_histogram(t_p_s)"
   ]
  },
  {
   "cell_type": "code",
   "execution_count": 26,
   "metadata": {},
   "outputs": [
    {
     "name": "stdout",
     "output_type": "stream",
     "text": [
      "Type Nodes: 16\n",
      "Type Curves: 24\n",
      "Type Surfaces: 13\n",
      "Type Volumes: 3\n",
      "Type 0: 74130\n",
      "Type 2: 148248\n",
      "Type 11: 59\n",
      "Surfaces per Volume:\n",
      "minimum:1\n",
      "maximum:6\n",
      "median:6.0\n",
      "average:4.333333333333333\n",
      "Triangles per Vertex:\n",
      "minimum:4\n",
      "maximum:386\n",
      "median:6\n",
      "average:5.999514366653177\n",
      "Triangles per Surface:\n",
      "minimum:2\n",
      "maximum:148224\n",
      "median:2\n",
      "mean:11403.692307692309\n"
     ]
    },
    {
     "data": {
      "image/png": "[encoded data removed]",
      "text/plain": [
       "<Figure size 432x288 with 1 Axes>"
      ]
     },
     "metadata": {
      "needs_background": "light"
     },
     "output_type": "display_data"
    },
    {
     "data": {
      "image/png": "[encoded data removed]",
      "text/plain": [
       "<Figure size 432x288 with 1 Axes>"
      ]
     },
     "metadata": {
      "needs_background": "light"
     },
     "output_type": "display_data"
    },
    {
     "data": {
      "image/png": "[encoded data removed]",
      "text/plain": [
       "<Figure size 432x288 with 1 Axes>"
      ]
     },
     "metadata": {
      "needs_background": "light"
     },
     "output_type": "display_data"
    }
   ],
   "source": [
    "histograms_and_stats()"
   ]
  },
  {
   "cell_type": "code",
   "execution_count": null,
   "metadata": {},
   "outputs": [],
   "source": []
  }
 ],
 "metadata": {
  "kernelspec": {
   "display_name": "Python 3",
   "language": "python",
   "name": "python3"
  },
  "language_info": {
   "codemirror_mode": {
    "name": "ipython",
    "version": 3
   },
   "file_extension": ".py",
   "mimetype": "text/x-python",
   "name": "python",
   "nbconvert_exporter": "python",
   "pygments_lexer": "ipython3",
   "version": "3.6.7"
  }
 },
 "nbformat": 4,
 "nbformat_minor": 2
}
