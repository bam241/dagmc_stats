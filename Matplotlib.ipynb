{
 "cells": [
  {
   "cell_type": "code",
   "execution_count": 37,
   "metadata": {},
   "outputs": [],
   "source": [
    "import sys\n",
    "import numpy as np\n",
    "import matplotlib.pyplot as plt\n",
    "sys.path.append('/opt/tljh/user/lib/moab/lib/python3.6/site-packages/pymoab-5.1.0-py3.6-linux-x86_64.egg')\n",
    "from pymoab import core, types\n",
    "from pymoab.rng import Range\n",
    "import generate_stats as gs"
   ]
  },
  {
   "cell_type": "markdown",
   "metadata": {},
   "source": [
    "# TYPE FILENAME BELOW"
   ]
  },
  {
   "cell_type": "code",
   "execution_count": 38,
   "metadata": {},
   "outputs": [],
   "source": [
    "input_file = '3vols.h5m'"
   ]
  },
  {
   "cell_type": "code",
   "execution_count": 39,
   "metadata": {},
   "outputs": [],
   "source": [
    "my_core = core.Core()\n",
    "my_core.load_file(input_file)"
   ]
  },
  {
   "cell_type": "code",
   "execution_count": 40,
   "metadata": {},
   "outputs": [],
   "source": [
    "root_set = my_core.get_root_set()\n",
    "entity_types = [types.MBVERTEX, types.MBTRI, types.MBENTITYSET]"
   ]
  },
  {
   "cell_type": "code",
   "execution_count": 41,
   "metadata": {},
   "outputs": [],
   "source": [
    "stats, data = gs.collect_statistics(my_core, root_set)"
   ]
  },
  {
   "cell_type": "code",
   "execution_count": 42,
   "metadata": {},
   "outputs": [],
   "source": [
    "def show_data(data):\n",
    "    spv_hist(data['S_P_V_data'])\n",
    "    #tps_hist(data['T_P_S_data'])\n",
    "    #tpv_hist(data['T_P_V_data'])"
   ]
  },
  {
   "cell_type": "code",
   "execution_count": 43,
   "metadata": {},
   "outputs": [],
   "source": [
    "def spv_hist(spv_data):\n",
    "    fig, ax = plt.subplots()\n",
    "    plt.hist(spv_data, range = (min(spv_data)-1, max(spv_data)+1))\n",
    "    ax.set_title('Surfaces per Volume')\n",
    "    ax.set_xlabel('Surfaces')\n",
    "    ax.set_ylabel('Occurences')"
   ]
  },
  {
   "cell_type": "code",
   "execution_count": 46,
   "metadata": {},
   "outputs": [],
   "source": [
    "def tps_hist(tps_data):\n",
    "    fig, ax = plt.subplots()\n",
    "    plt.hist(tps_data)\n",
    "    ax.set_title('Triangles per Surface')\n",
    "    ax.set_xlabel('Triangles')\n",
    "    ax.set_ylabel('Occurences')"
   ]
  },
  {
   "cell_type": "code",
   "execution_count": null,
   "metadata": {},
   "outputs": [],
   "source": [
    "def tpv_hist(tpv_data):\n",
    "    fig, ax = plt.subplots()\n",
    "    plt.hist(tpv_data)\n",
    "    ax.set_title('Triangles per Vertex')\n",
    "    ax.set_xlabel('Triangles')\n",
    "    ax.set_ylabel('Occurences')"
   ]
  },
  {
   "cell_type": "code",
   "execution_count": 47,
   "metadata": {
    "slideshow": {
     "slide_type": "slide"
    }
   },
   "outputs": [
    {
     "data": {
      "image/png": "[encoded data removed]",
      "text/plain": [
       "<Figure size 432x288 with 1 Axes>"
      ]
     },
     "metadata": {
      "needs_background": "light"
     },
     "output_type": "display_data"
    }
   ],
   "source": [
    "show_data(data)"
   ]
  }
 ],
 "metadata": {
  "celltoolbar": "Slideshow",
  "kernelspec": {
   "display_name": "Python 3",
   "language": "python",
   "name": "python3"
  },
  "language_info": {
   "codemirror_mode": {
    "name": "ipython",
    "version": 3
   },
   "file_extension": ".py",
   "mimetype": "text/x-python",
   "name": "python",
   "nbconvert_exporter": "python",
   "pygments_lexer": "ipython3",
   "version": "3.6.7"
  }
 },
 "nbformat": 4,
 "nbformat_minor": 2
}
