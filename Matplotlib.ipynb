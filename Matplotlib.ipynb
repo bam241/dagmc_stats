{
 "cells": [
  {
   "cell_type": "code",
   "execution_count": 1,
   "metadata": {
    "slideshow": {
     "slide_type": "-"
    }
   },
   "outputs": [],
   "source": [
    "import sys\n",
    "import numpy as np\n",
    "import matplotlib.pyplot as plt\n",
    "sys.path.append('/opt/tljh/user/lib/moab/lib/python3.6/site-packages/pymoab-5.1.0-py3.6-linux-x86_64.egg')\n",
    "from pymoab import core, types\n",
    "from pymoab.rng import Range\n",
    "import generate_stats as gs"
   ]
  },
  {
   "cell_type": "markdown",
   "metadata": {},
   "source": [
    "# TYPE FILENAME BELOW"
   ]
  },
  {
   "cell_type": "code",
   "execution_count": 2,
   "metadata": {},
   "outputs": [],
   "source": [
    "input_file = '3vols.h5m'"
   ]
  },
  {
   "cell_type": "code",
   "execution_count": 3,
   "metadata": {},
   "outputs": [],
   "source": [
    "my_core = core.Core()\n",
    "my_core.load_file(input_file)"
   ]
  },
  {
   "cell_type": "code",
   "execution_count": 4,
   "metadata": {},
   "outputs": [],
   "source": [
    "root_set = my_core.get_root_set()\n",
    "entity_types = [types.MBVERTEX, types.MBTRI, types.MBENTITYSET]"
   ]
  },
  {
   "cell_type": "code",
   "execution_count": 5,
   "metadata": {},
   "outputs": [],
   "source": [
    "stats, data = gs.collect_statistics(my_core, root_set)"
   ]
  },
  {
   "cell_type": "code",
   "execution_count": 6,
   "metadata": {},
   "outputs": [],
   "source": [
    "def show_data(data):\n",
    "    spv_hist(list(data['S_P_V'].values()))\n",
    "    tps_hist(list(data['T_P_S'].values()))\n",
    "    #tpv_hist(data['T_P_V_data'])"
   ]
  },
  {
   "cell_type": "code",
   "execution_count": 11,
   "metadata": {},
   "outputs": [],
   "source": [
    "def spv_hist(spv_data):\n",
    "    fig, ax = plt.subplots()\n",
    "    plt.hist(spv_data)\n",
    "    ax.set_title('Surfaces per Volume')\n",
    "    ax.set_xlabel('Surfaces')\n",
    "    ax.set_ylabel('Occurences')"
   ]
  },
  {
   "cell_type": "code",
   "execution_count": 12,
   "metadata": {},
   "outputs": [],
   "source": [
    "def tps_hist(tps_data):\n",
    "    fig, ax = plt.subplots()\n",
    "    plt.hist(tps_data)\n",
    "    ax.set_title('Triangles per Surface')\n",
    "    ax.set_xlabel('Triangles')\n",
    "    ax.set_ylabel('Occurences')"
   ]
  },
  {
   "cell_type": "code",
   "execution_count": 13,
   "metadata": {},
   "outputs": [],
   "source": [
    "def tpv_hist(tpv_data):\n",
    "    fig, ax = plt.subplots()\n",
    "    plt.hist(tpv_data)\n",
    "    ax.set_title('Triangles per Vertex')\n",
    "    ax.set_xlabel('Triangles')\n",
    "    ax.set_ylabel('Occurences')"
   ]
  },
  {
   "cell_type": "code",
   "execution_count": 14,
   "metadata": {
    "slideshow": {
     "slide_type": "slide"
    }
   },
   "outputs": [
    {
     "data": {
      "image/png": "[encoded data removed]",
      "text/plain": [
       "<Figure size 432x288 with 1 Axes>"
      ]
     },
     "metadata": {
      "needs_background": "light"
     },
     "output_type": "display_data"
    },
    {
     "data": {
      "image/png": "[encoded data removed]",
      "text/plain": [
       "<Figure size 432x288 with 1 Axes>"
      ]
     },
     "metadata": {
      "needs_background": "light"
     },
     "output_type": "display_data"
    }
   ],
   "source": [
    "show_data(data)"
   ]
  },
  {
   "cell_type": "code",
   "execution_count": null,
   "metadata": {},
   "outputs": [],
   "source": []
  }
 ],
 "metadata": {
  "celltoolbar": "Raw Cell Format",
  "kernelspec": {
   "display_name": "Python 3",
   "language": "python",
   "name": "python3"
  },
  "language_info": {
   "codemirror_mode": {
    "name": "ipython",
    "version": 3
   },
   "file_extension": ".py",
   "mimetype": "text/x-python",
   "name": "python",
   "nbconvert_exporter": "python",
   "pygments_lexer": "ipython3",
   "version": "3.6.7"
  }
 },
 "nbformat": 4,
 "nbformat_minor": 2
}
